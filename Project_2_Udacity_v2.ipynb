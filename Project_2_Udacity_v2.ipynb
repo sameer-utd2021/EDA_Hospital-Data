{
 "cells": [
  {
   "cell_type": "markdown",
   "metadata": {},
   "source": [
    "# Project: Investigate Hospital noshow appointments data\n",
    "\n",
    "## Table of Contents\n",
    "<ul>\n",
    "<li><a href=\"#intro\">Introduction</a></li>\n",
    "<li><a href=\"#wrangling\">Data Wrangling</a></li>\n",
    "<li><a href=\"#eda\">Exploratory Data Analysis</a></li>\n",
    "<li><a href=\"#conclusions\">Conclusions</a></li>\n",
    "</ul>"
   ]
  },
  {
   "cell_type": "markdown",
   "metadata": {},
   "source": [
    "<a id='intro'></a>\n",
    "## Introduction\n",
    "\n",
    "With this project we'll be anyalyzing the dataset for hospital appointments which has information on 100,000 medical appointments in Brazil and is focused on the questions as to what are the factors which affect patients showing up for appointments. \n",
    "\n",
    "A number ofcharacteristics about the patient are included in each row:\n",
    " - ‘ScheduledDay’ tells us on what day the patient set up their appointment\n",
    " - ‘Neighborhood’ indicates the location of the hospital\n",
    " - ‘Scholarship’ indicates whether or not the patient is enrolled in Brasilian welfare program Bolsa Família [Bolsa Família (Family Allowance) is a social welfare program of the Government of Brazil, part of the Fome Zero network of federal assistance programs. Bolsa Família provides financial aid to poor Brazilian families; and if they have children, families must ensure that the children attend school and are vaccinated. If they exceed the total of permitted school absences, they are dropped from the program and their funds are suspended. The program attempts to both reduce short-term poverty by direct cash transfers and fight long-term poverty by increasing human capital among the poor through conditional cash transfers. It also works to give free education to children who cannot afford to go to school to show the importance of education.] - _taken from Wikipedia_\n",
    " - 'No-show' says ‘No’ if the patient showed up to their appointment,and ‘Yes’ if they did not show up\n",
    " -  Appointment ID,Gender,Schdedule Day,Appointment Day,Age, Neighbourhood,Hipertension,Diabetes, Alcholism, Handicap, SMS are other self explanatory obesrvations availbale for each patient\n",
    "\n",
    "**Dependent Variable for analysis:** <br>\n",
    "**'No-show'** <br>\n",
    "We want to predict based on the rest of the data whether the patient will show up for the appointment\n",
    "\n",
    "**Independent Variables for analysis: <br>Scholarship , SMS_recieved,Handcap, Alcoholism, Gender, Neighbourhood and Age**\n",
    "\n"
   ]
  },
  {
   "cell_type": "code",
   "execution_count": 2,
   "metadata": {},
   "outputs": [],
   "source": [
    "# import statements for all of the packages that are going to be used.\n",
    "import pandas as pd\n",
    "import numpy as np\n",
    "%matplotlib inline\n",
    "import matplotlib.pyplot as plt\n",
    "import os\n",
    "import seaborn as sns"
   ]
  },
  {
   "cell_type": "markdown",
   "metadata": {},
   "source": [
    "<a id='wrangling'></a>\n",
    "## Data Wrangling\n",
    "\n",
    "**We check for the following:**\n",
    "- How the data looks?\n",
    "- Datatypes of each column\n",
    "- Check for null values"
   ]
  },
  {
   "cell_type": "code",
   "execution_count": 3,
   "metadata": {},
   "outputs": [],
   "source": [
    "# Load data \n",
    "os.chdir('C:/UTD/Nanodegree/2. Project 2/Project')\n",
    "df=pd.read_csv('noshow2016.csv')"
   ]
  },
  {
   "cell_type": "code",
   "execution_count": 3,
   "metadata": {},
   "outputs": [
    {
     "data": {
      "text/html": [
       "<div>\n",
       "<style scoped>\n",
       "    .dataframe tbody tr th:only-of-type {\n",
       "        vertical-align: middle;\n",
       "    }\n",
       "\n",
       "    .dataframe tbody tr th {\n",
       "        vertical-align: top;\n",
       "    }\n",
       "\n",
       "    .dataframe thead th {\n",
       "        text-align: right;\n",
       "    }\n",
       "</style>\n",
       "<table border=\"1\" class=\"dataframe\">\n",
       "  <thead>\n",
       "    <tr style=\"text-align: right;\">\n",
       "      <th></th>\n",
       "      <th>PatientId</th>\n",
       "      <th>AppointmentID</th>\n",
       "      <th>Gender</th>\n",
       "      <th>ScheduledDay</th>\n",
       "      <th>AppointmentDay</th>\n",
       "      <th>Age</th>\n",
       "      <th>Neighbourhood</th>\n",
       "      <th>Scholarship</th>\n",
       "      <th>Hipertension</th>\n",
       "      <th>Diabetes</th>\n",
       "      <th>Alcoholism</th>\n",
       "      <th>Handcap</th>\n",
       "      <th>SMS_received</th>\n",
       "      <th>No-show</th>\n",
       "    </tr>\n",
       "  </thead>\n",
       "  <tbody>\n",
       "    <tr>\n",
       "      <td>0</td>\n",
       "      <td>2.987250e+13</td>\n",
       "      <td>5642903</td>\n",
       "      <td>F</td>\n",
       "      <td>2016-04-29T18:38:08Z</td>\n",
       "      <td>2016-04-29T00:00:00Z</td>\n",
       "      <td>62</td>\n",
       "      <td>JARDIM DA PENHA</td>\n",
       "      <td>0</td>\n",
       "      <td>1</td>\n",
       "      <td>0</td>\n",
       "      <td>0</td>\n",
       "      <td>0</td>\n",
       "      <td>0</td>\n",
       "      <td>No</td>\n",
       "    </tr>\n",
       "    <tr>\n",
       "      <td>1</td>\n",
       "      <td>5.589978e+14</td>\n",
       "      <td>5642503</td>\n",
       "      <td>M</td>\n",
       "      <td>2016-04-29T16:08:27Z</td>\n",
       "      <td>2016-04-29T00:00:00Z</td>\n",
       "      <td>56</td>\n",
       "      <td>JARDIM DA PENHA</td>\n",
       "      <td>0</td>\n",
       "      <td>0</td>\n",
       "      <td>0</td>\n",
       "      <td>0</td>\n",
       "      <td>0</td>\n",
       "      <td>0</td>\n",
       "      <td>No</td>\n",
       "    </tr>\n",
       "    <tr>\n",
       "      <td>2</td>\n",
       "      <td>4.262962e+12</td>\n",
       "      <td>5642549</td>\n",
       "      <td>F</td>\n",
       "      <td>2016-04-29T16:19:04Z</td>\n",
       "      <td>2016-04-29T00:00:00Z</td>\n",
       "      <td>62</td>\n",
       "      <td>MATA DA PRAIA</td>\n",
       "      <td>0</td>\n",
       "      <td>0</td>\n",
       "      <td>0</td>\n",
       "      <td>0</td>\n",
       "      <td>0</td>\n",
       "      <td>0</td>\n",
       "      <td>No</td>\n",
       "    </tr>\n",
       "    <tr>\n",
       "      <td>3</td>\n",
       "      <td>8.679512e+11</td>\n",
       "      <td>5642828</td>\n",
       "      <td>F</td>\n",
       "      <td>2016-04-29T17:29:31Z</td>\n",
       "      <td>2016-04-29T00:00:00Z</td>\n",
       "      <td>8</td>\n",
       "      <td>PONTAL DE CAMBURI</td>\n",
       "      <td>0</td>\n",
       "      <td>0</td>\n",
       "      <td>0</td>\n",
       "      <td>0</td>\n",
       "      <td>0</td>\n",
       "      <td>0</td>\n",
       "      <td>No</td>\n",
       "    </tr>\n",
       "    <tr>\n",
       "      <td>4</td>\n",
       "      <td>8.841186e+12</td>\n",
       "      <td>5642494</td>\n",
       "      <td>F</td>\n",
       "      <td>2016-04-29T16:07:23Z</td>\n",
       "      <td>2016-04-29T00:00:00Z</td>\n",
       "      <td>56</td>\n",
       "      <td>JARDIM DA PENHA</td>\n",
       "      <td>0</td>\n",
       "      <td>1</td>\n",
       "      <td>1</td>\n",
       "      <td>0</td>\n",
       "      <td>0</td>\n",
       "      <td>0</td>\n",
       "      <td>No</td>\n",
       "    </tr>\n",
       "  </tbody>\n",
       "</table>\n",
       "</div>"
      ],
      "text/plain": [
       "      PatientId  AppointmentID Gender          ScheduledDay  \\\n",
       "0  2.987250e+13        5642903      F  2016-04-29T18:38:08Z   \n",
       "1  5.589978e+14        5642503      M  2016-04-29T16:08:27Z   \n",
       "2  4.262962e+12        5642549      F  2016-04-29T16:19:04Z   \n",
       "3  8.679512e+11        5642828      F  2016-04-29T17:29:31Z   \n",
       "4  8.841186e+12        5642494      F  2016-04-29T16:07:23Z   \n",
       "\n",
       "         AppointmentDay  Age      Neighbourhood  Scholarship  Hipertension  \\\n",
       "0  2016-04-29T00:00:00Z   62    JARDIM DA PENHA            0             1   \n",
       "1  2016-04-29T00:00:00Z   56    JARDIM DA PENHA            0             0   \n",
       "2  2016-04-29T00:00:00Z   62      MATA DA PRAIA            0             0   \n",
       "3  2016-04-29T00:00:00Z    8  PONTAL DE CAMBURI            0             0   \n",
       "4  2016-04-29T00:00:00Z   56    JARDIM DA PENHA            0             1   \n",
       "\n",
       "   Diabetes  Alcoholism  Handcap  SMS_received No-show  \n",
       "0         0           0        0             0      No  \n",
       "1         0           0        0             0      No  \n",
       "2         0           0        0             0      No  \n",
       "3         0           0        0             0      No  \n",
       "4         1           0        0             0      No  "
      ]
     },
     "execution_count": 3,
     "metadata": {},
     "output_type": "execute_result"
    }
   ],
   "source": [
    "df.head(5)"
   ]
  },
  {
   "cell_type": "code",
   "execution_count": 4,
   "metadata": {},
   "outputs": [
    {
     "name": "stdout",
     "output_type": "stream",
     "text": [
      "<class 'pandas.core.frame.DataFrame'>\n",
      "RangeIndex: 110527 entries, 0 to 110526\n",
      "Data columns (total 14 columns):\n",
      "PatientId         110527 non-null float64\n",
      "AppointmentID     110527 non-null int64\n",
      "Gender            110527 non-null object\n",
      "ScheduledDay      110527 non-null object\n",
      "AppointmentDay    110527 non-null object\n",
      "Age               110527 non-null int64\n",
      "Neighbourhood     110527 non-null object\n",
      "Scholarship       110527 non-null int64\n",
      "Hipertension      110527 non-null int64\n",
      "Diabetes          110527 non-null int64\n",
      "Alcoholism        110527 non-null int64\n",
      "Handcap           110527 non-null int64\n",
      "SMS_received      110527 non-null int64\n",
      "No-show           110527 non-null object\n",
      "dtypes: float64(1), int64(8), object(5)\n",
      "memory usage: 11.8+ MB\n"
     ]
    }
   ],
   "source": [
    "df.info()"
   ]
  },
  {
   "cell_type": "code",
   "execution_count": 5,
   "metadata": {},
   "outputs": [
    {
     "data": {
      "text/plain": [
       "(110527, 14)"
      ]
     },
     "execution_count": 5,
     "metadata": {},
     "output_type": "execute_result"
    }
   ],
   "source": [
    "df.shape"
   ]
  },
  {
   "cell_type": "code",
   "execution_count": 6,
   "metadata": {},
   "outputs": [
    {
     "data": {
      "image/png": "[encoded data removed]",
      "text/plain": [
       "<Figure size 720x720 with 9 Axes>"
      ]
     },
     "metadata": {
      "needs_background": "light"
     },
     "output_type": "display_data"
    }
   ],
   "source": [
    "df.hist(figsize=(10,10));"
   ]
  },
  {
   "cell_type": "markdown",
   "metadata": {},
   "source": [
    "**Notes from the above dataframe histogram:**\n",
    "- Most people making appointments are less than 70 years old. \n",
    "- Most people do not have alcoholism\n",
    "- Most people do not have diabetes\n",
    "- Most poeple do not have a handicap. Handicap has more than 2 categories. \n",
    "- Most people do not have hypertension\n",
    "- Patient ID is meaningless, we need to remove it\n",
    "- Most people did not receive an SMS\n",
    "- Most people do not have a scholarship\n"
   ]
  },
  {
   "cell_type": "code",
   "execution_count": 7,
   "metadata": {},
   "outputs": [
    {
     "data": {
      "text/plain": [
       "110527"
      ]
     },
     "execution_count": 7,
     "metadata": {},
     "output_type": "execute_result"
    }
   ],
   "source": [
    "df['AppointmentID'].nunique()"
   ]
  },
  {
   "cell_type": "markdown",
   "metadata": {},
   "source": [
    "There are no null values in the data.\n",
    "\n",
    "The PatientID variable is a float type. There's no use of the column. We'll drop it. We can use Appointment ID as a unique indentifier. \n",
    "\n",
    "Let's first change column labels for convineance\n",
    "\n",
    "### Data Cleaning\n",
    "\n",
    "**We do the following changes to the data:**\n",
    "- Rename all columns to use lower case letter\n",
    "- Rename columns which a hyphen and convert those to an underscore\n",
    "- Drop 'patient ID' since it is not giving any information\n",
    "- Convert the 'No-show' column to a 'show' column with 1 representing patient showed up and 0 representing patient did not show up"
   ]
  },
  {
   "cell_type": "code",
   "execution_count": 4,
   "metadata": {},
   "outputs": [],
   "source": [
    "df.rename(columns=lambda x: x.strip().lower().replace(\"-\", \"_\"), inplace=True)  # changing column labels to lowercase and striping -  and replacing it with _"
   ]
  },
  {
   "cell_type": "code",
   "execution_count": 9,
   "metadata": {},
   "outputs": [
    {
     "data": {
      "text/plain": [
       "Index(['patientid', 'appointmentid', 'gender', 'scheduledday',\n",
       "       'appointmentday', 'age', 'neighbourhood', 'scholarship', 'hipertension',\n",
       "       'diabetes', 'alcoholism', 'handcap', 'sms_received', 'no_show'],\n",
       "      dtype='object')"
      ]
     },
     "execution_count": 9,
     "metadata": {},
     "output_type": "execute_result"
    }
   ],
   "source": [
    "df.columns"
   ]
  },
  {
   "cell_type": "code",
   "execution_count": 5,
   "metadata": {},
   "outputs": [],
   "source": [
    "df.drop(['patientid'],axis=1,inplace=True) # dropping patient ID"
   ]
  },
  {
   "cell_type": "code",
   "execution_count": 11,
   "metadata": {},
   "outputs": [
    {
     "data": {
      "text/html": [
       "<div>\n",
       "<style scoped>\n",
       "    .dataframe tbody tr th:only-of-type {\n",
       "        vertical-align: middle;\n",
       "    }\n",
       "\n",
       "    .dataframe tbody tr th {\n",
       "        vertical-align: top;\n",
       "    }\n",
       "\n",
       "    .dataframe thead th {\n",
       "        text-align: right;\n",
       "    }\n",
       "</style>\n",
       "<table border=\"1\" class=\"dataframe\">\n",
       "  <thead>\n",
       "    <tr style=\"text-align: right;\">\n",
       "      <th></th>\n",
       "      <th>appointmentid</th>\n",
       "      <th>gender</th>\n",
       "      <th>scheduledday</th>\n",
       "      <th>appointmentday</th>\n",
       "      <th>age</th>\n",
       "      <th>neighbourhood</th>\n",
       "      <th>scholarship</th>\n",
       "      <th>hipertension</th>\n",
       "      <th>diabetes</th>\n",
       "      <th>alcoholism</th>\n",
       "      <th>handcap</th>\n",
       "      <th>sms_received</th>\n",
       "      <th>no_show</th>\n",
       "    </tr>\n",
       "  </thead>\n",
       "  <tbody>\n",
       "    <tr>\n",
       "      <td>0</td>\n",
       "      <td>5642903</td>\n",
       "      <td>F</td>\n",
       "      <td>2016-04-29T18:38:08Z</td>\n",
       "      <td>2016-04-29T00:00:00Z</td>\n",
       "      <td>62</td>\n",
       "      <td>JARDIM DA PENHA</td>\n",
       "      <td>0</td>\n",
       "      <td>1</td>\n",
       "      <td>0</td>\n",
       "      <td>0</td>\n",
       "      <td>0</td>\n",
       "      <td>0</td>\n",
       "      <td>No</td>\n",
       "    </tr>\n",
       "    <tr>\n",
       "      <td>1</td>\n",
       "      <td>5642503</td>\n",
       "      <td>M</td>\n",
       "      <td>2016-04-29T16:08:27Z</td>\n",
       "      <td>2016-04-29T00:00:00Z</td>\n",
       "      <td>56</td>\n",
       "      <td>JARDIM DA PENHA</td>\n",
       "      <td>0</td>\n",
       "      <td>0</td>\n",
       "      <td>0</td>\n",
       "      <td>0</td>\n",
       "      <td>0</td>\n",
       "      <td>0</td>\n",
       "      <td>No</td>\n",
       "    </tr>\n",
       "  </tbody>\n",
       "</table>\n",
       "</div>"
      ],
      "text/plain": [
       "   appointmentid gender          scheduledday        appointmentday  age  \\\n",
       "0        5642903      F  2016-04-29T18:38:08Z  2016-04-29T00:00:00Z   62   \n",
       "1        5642503      M  2016-04-29T16:08:27Z  2016-04-29T00:00:00Z   56   \n",
       "\n",
       "     neighbourhood  scholarship  hipertension  diabetes  alcoholism  handcap  \\\n",
       "0  JARDIM DA PENHA            0             1         0           0        0   \n",
       "1  JARDIM DA PENHA            0             0         0           0        0   \n",
       "\n",
       "   sms_received no_show  \n",
       "0             0      No  \n",
       "1             0      No  "
      ]
     },
     "execution_count": 11,
     "metadata": {},
     "output_type": "execute_result"
    }
   ],
   "source": [
    "df.head(2)"
   ]
  },
  {
   "cell_type": "code",
   "execution_count": 12,
   "metadata": {},
   "outputs": [
    {
     "data": {
      "text/plain": [
       "appointmentid     110527\n",
       "gender                 2\n",
       "scheduledday      103549\n",
       "appointmentday        27\n",
       "age                  104\n",
       "neighbourhood         81\n",
       "scholarship            2\n",
       "hipertension           2\n",
       "diabetes               2\n",
       "alcoholism             2\n",
       "handcap                5\n",
       "sms_received           2\n",
       "no_show                2\n",
       "dtype: int64"
      ]
     },
     "execution_count": 12,
     "metadata": {},
     "output_type": "execute_result"
    }
   ],
   "source": [
    "df.nunique()"
   ]
  },
  {
   "cell_type": "markdown",
   "metadata": {},
   "source": [
    "**IMPORTANT:**\n",
    "**'No-show' says ‘No’ if the patient showed up to their appointment,and ‘Yes’ if they did not show up. I want to convert the 'no_show' column values from ('Yes','No') to a (0,1) integer value so that I can get sum and mean of this column. This will be done in a new column called 'show' where 1 will mean patient showed up and 0 will mean patient did not show up.**"
   ]
  },
  {
   "cell_type": "code",
   "execution_count": 6,
   "metadata": {},
   "outputs": [],
   "source": [
    "df.no_show.replace(('Yes', 'No'), (0, 1), inplace=True)\n",
    "df.rename(columns={'no_show':'show'},inplace=True)"
   ]
  },
  {
   "cell_type": "code",
   "execution_count": 14,
   "metadata": {},
   "outputs": [
    {
     "data": {
      "text/html": [
       "<div>\n",
       "<style scoped>\n",
       "    .dataframe tbody tr th:only-of-type {\n",
       "        vertical-align: middle;\n",
       "    }\n",
       "\n",
       "    .dataframe tbody tr th {\n",
       "        vertical-align: top;\n",
       "    }\n",
       "\n",
       "    .dataframe thead th {\n",
       "        text-align: right;\n",
       "    }\n",
       "</style>\n",
       "<table border=\"1\" class=\"dataframe\">\n",
       "  <thead>\n",
       "    <tr style=\"text-align: right;\">\n",
       "      <th></th>\n",
       "      <th>appointmentid</th>\n",
       "      <th>gender</th>\n",
       "      <th>scheduledday</th>\n",
       "      <th>appointmentday</th>\n",
       "      <th>age</th>\n",
       "      <th>neighbourhood</th>\n",
       "      <th>scholarship</th>\n",
       "      <th>hipertension</th>\n",
       "      <th>diabetes</th>\n",
       "      <th>alcoholism</th>\n",
       "      <th>handcap</th>\n",
       "      <th>sms_received</th>\n",
       "      <th>show</th>\n",
       "    </tr>\n",
       "  </thead>\n",
       "  <tbody>\n",
       "    <tr>\n",
       "      <td>0</td>\n",
       "      <td>5642903</td>\n",
       "      <td>F</td>\n",
       "      <td>2016-04-29T18:38:08Z</td>\n",
       "      <td>2016-04-29T00:00:00Z</td>\n",
       "      <td>62</td>\n",
       "      <td>JARDIM DA PENHA</td>\n",
       "      <td>0</td>\n",
       "      <td>1</td>\n",
       "      <td>0</td>\n",
       "      <td>0</td>\n",
       "      <td>0</td>\n",
       "      <td>0</td>\n",
       "      <td>1</td>\n",
       "    </tr>\n",
       "  </tbody>\n",
       "</table>\n",
       "</div>"
      ],
      "text/plain": [
       "   appointmentid gender          scheduledday        appointmentday  age  \\\n",
       "0        5642903      F  2016-04-29T18:38:08Z  2016-04-29T00:00:00Z   62   \n",
       "\n",
       "     neighbourhood  scholarship  hipertension  diabetes  alcoholism  handcap  \\\n",
       "0  JARDIM DA PENHA            0             1         0           0        0   \n",
       "\n",
       "   sms_received  show  \n",
       "0             0     1  "
      ]
     },
     "execution_count": 14,
     "metadata": {},
     "output_type": "execute_result"
    }
   ],
   "source": [
    "df.head(1)"
   ]
  },
  {
   "cell_type": "code",
   "execution_count": 15,
   "metadata": {},
   "outputs": [
    {
     "name": "stdout",
     "output_type": "stream",
     "text": [
      "<class 'pandas.core.frame.DataFrame'>\n",
      "RangeIndex: 110527 entries, 0 to 110526\n",
      "Data columns (total 13 columns):\n",
      "appointmentid     110527 non-null int64\n",
      "gender            110527 non-null object\n",
      "scheduledday      110527 non-null object\n",
      "appointmentday    110527 non-null object\n",
      "age               110527 non-null int64\n",
      "neighbourhood     110527 non-null object\n",
      "scholarship       110527 non-null int64\n",
      "hipertension      110527 non-null int64\n",
      "diabetes          110527 non-null int64\n",
      "alcoholism        110527 non-null int64\n",
      "handcap           110527 non-null int64\n",
      "sms_received      110527 non-null int64\n",
      "show              110527 non-null int64\n",
      "dtypes: int64(9), object(4)\n",
      "memory usage: 11.0+ MB\n"
     ]
    }
   ],
   "source": [
    "df.info()"
   ]
  },
  {
   "cell_type": "markdown",
   "metadata": {},
   "source": [
    "<a id='eda'></a>\n",
    "## Exploratory Data Analysis\n",
    "\n",
    "### Research Question 1 : Does having a scholarship affect patients showing up?"
   ]
  },
  {
   "cell_type": "code",
   "execution_count": 16,
   "metadata": {},
   "outputs": [
    {
     "data": {
      "text/plain": [
       "0    99666\n",
       "1    10861\n",
       "Name: scholarship, dtype: int64"
      ]
     },
     "execution_count": 16,
     "metadata": {},
     "output_type": "execute_result"
    }
   ],
   "source": [
    "df['scholarship'].value_counts()"
   ]
  },
  {
   "cell_type": "markdown",
   "metadata": {},
   "source": [
    "_It should be noted that there are just 10861 patient visits with scholarships out of a total of 110527 patient visits._"
   ]
  },
  {
   "cell_type": "code",
   "execution_count": 93,
   "metadata": {},
   "outputs": [
    {
     "data": {
      "image/png": "[encoded data removed]",
      "text/plain": [
       "<Figure size 576x432 with 1 Axes>"
      ]
     },
     "metadata": {
      "needs_background": "light"
     },
     "output_type": "display_data"
    }
   ],
   "source": [
    "fig, ax = plt.subplots(figsize=(8, 6))\n",
    "scholar_plot = sns.countplot(x=\"scholarship\",hue='show', data=df,palette=[\"darkblue\", \"royalblue\"])\n",
    "scholar_plot.set_title('Fig-1a. Effect of having a scholarship on patients showing up')\n",
    "scholar_plot.set_xlabel('Scholarship Status (0 - no scholarship , 1 - with scholarship)')\n",
    "scholar_plot.set_ylabel('no. of patients');"
   ]
  },
  {
   "cell_type": "markdown",
   "metadata": {},
   "source": [
    "People without scholarship show up the most among the four groups. Also, the number of people without scholarship are way more than people with scholarship. \n",
    "Therefore, we should also look at figures which've been scaled, like the mean of number of patients showing up for each category i.e. people with scholarship and people without."
   ]
  },
  {
   "cell_type": "code",
   "execution_count": 38,
   "metadata": {},
   "outputs": [],
   "source": [
    "scholar_1=df.scholarship==1\n",
    "scholar_0=df.scholarship==0"
   ]
  },
  {
   "cell_type": "code",
   "execution_count": 41,
   "metadata": {},
   "outputs": [],
   "source": [
    "scholar=df.show[scholar_1].mean() # mean of no.of people showing up with scholarship "
   ]
  },
  {
   "cell_type": "code",
   "execution_count": 40,
   "metadata": {},
   "outputs": [],
   "source": [
    "non_scholar=df.show[scholar_0].mean() # mean of no.of people showing up without scholarship "
   ]
  },
  {
   "cell_type": "code",
   "execution_count": 95,
   "metadata": {},
   "outputs": [
    {
     "data": {
      "image/png": "[encoded data removed]",
      "text/plain": [
       "<Figure size 576x432 with 1 Axes>"
      ]
     },
     "metadata": {
      "needs_background": "light"
     },
     "output_type": "display_data"
    }
   ],
   "source": [
    "#bar plot\n",
    "fig, ax = plt.subplots(figsize=(8, 6))\n",
    "x=['With Scholarship','Without Scholarship']  # each category labels\n",
    "plt.bar(x,height=(scholar,non_scholar),width=0.2,color='darkblue')\n",
    "plt.title('Fig-1b. Effect of having a scholarship on patients showing up')\n",
    "plt.xlabel('Scholarship Status')\n",
    "plt.ylabel('no. of patients showed up / total no.of patients');"
   ]
  },
  {
   "cell_type": "markdown",
   "metadata": {},
   "source": [
    "If we follow the mean statistic, the above analysis shows there's ,in fact, a larger probability of showing up for people without scholarship. But,only a slightly larger when compared to people with scholarship. "
   ]
  },
  {
   "cell_type": "markdown",
   "metadata": {},
   "source": [
    "### Research Question 2 : Does sending an sms effect patients showing up?"
   ]
  },
  {
   "cell_type": "code",
   "execution_count": 77,
   "metadata": {},
   "outputs": [
    {
     "data": {
      "text/plain": [
       "0    75044\n",
       "1    35482\n",
       "Name: sms_received, dtype: int64"
      ]
     },
     "execution_count": 77,
     "metadata": {},
     "output_type": "execute_result"
    }
   ],
   "source": [
    "df['sms_received'].value_counts()"
   ]
  },
  {
   "cell_type": "markdown",
   "metadata": {},
   "source": [
    "_Total number of patient visits where sms was received was 35482 out of a total number of patient visits of 110527_"
   ]
  },
  {
   "cell_type": "code",
   "execution_count": 97,
   "metadata": {},
   "outputs": [
    {
     "data": {
      "image/png": "[encoded data removed]",
      "text/plain": [
       "<Figure size 576x432 with 1 Axes>"
      ]
     },
     "metadata": {
      "needs_background": "light"
     },
     "output_type": "display_data"
    }
   ],
   "source": [
    "fig, ax = plt.subplots(figsize=(8, 6))\n",
    "sms_plot = sns.countplot(x=\"sms_received\",hue='show', data=df,palette=['fuchsia','violet'])\n",
    "sms_plot.set_title('Fig-2a. Effect of receiving sms on patients showing up')\n",
    "sms_plot.set_xlabel('SMS Receipt Status (0 - sms received , 1 - sms not received)')\n",
    "sms_plot.set_ylabel('no. of patients');"
   ]
  },
  {
   "cell_type": "markdown",
   "metadata": {},
   "source": [
    "Most people who did not receive an SMS showed up. Again, the number of people who did not receive an SMS is way more than people who did. \n",
    "Therefore, we should also look at figures which've been scaled, like the mean of number of patients showing up for each category i.e. people who received SMS and people who did not."
   ]
  },
  {
   "cell_type": "code",
   "execution_count": 102,
   "metadata": {},
   "outputs": [],
   "source": [
    "sms_1=df.sms_received==1\n",
    "sms_0=df.sms_received==0"
   ]
  },
  {
   "cell_type": "code",
   "execution_count": 51,
   "metadata": {},
   "outputs": [],
   "source": [
    "sms=df.show[sms_1].mean() # mean of no.of people who received an SMS  and also showed up"
   ]
  },
  {
   "cell_type": "code",
   "execution_count": 52,
   "metadata": {},
   "outputs": [],
   "source": [
    "sms_not=df.show[sms_0].mean() # mean of no.of people who did not receive an SMS  and showed up"
   ]
  },
  {
   "cell_type": "code",
   "execution_count": 53,
   "metadata": {},
   "outputs": [
    {
     "data": {
      "text/plain": [
       "-0.13051219284763368"
      ]
     },
     "execution_count": 53,
     "metadata": {},
     "output_type": "execute_result"
    }
   ],
   "source": [
    "#Percent improvement in number of patients showing up\n",
    "(sms-sms_not)/sms_not"
   ]
  },
  {
   "cell_type": "markdown",
   "metadata": {},
   "source": [
    "The above statistic shows that there's a 13% decline in showing up for people who received an SMS."
   ]
  },
  {
   "cell_type": "code",
   "execution_count": 54,
   "metadata": {},
   "outputs": [
    {
     "data": {
      "image/png": "[encoded data removed]",
      "text/plain": [
       "<Figure size 432x288 with 1 Axes>"
      ]
     },
     "metadata": {
      "needs_background": "light"
     },
     "output_type": "display_data"
    }
   ],
   "source": [
    "x=['With SMS','Without SMS']\n",
    "plt.bar(x,height=(scholar,non_scholar),width=0.4,color='magenta')\n",
    "plt.title('Fig-2b: Effect of receiving and SMS on patients showing up')\n",
    "plt.xlabel('SMS receipt status')\n",
    "plt.ylabel('no. of patients showed up / total no.of patients');"
   ]
  },
  {
   "cell_type": "markdown",
   "metadata": {},
   "source": [
    "If we follow the mean statistic, people who do not receive an SMS are more likley to show up for the appointment."
   ]
  },
  {
   "cell_type": "markdown",
   "metadata": {},
   "source": [
    "### Research Question 3 : Does having a handicap effect patients showing up?"
   ]
  },
  {
   "cell_type": "code",
   "execution_count": 35,
   "metadata": {},
   "outputs": [
    {
     "data": {
      "text/plain": [
       "array([0, 1, 2, 3, 4], dtype=int64)"
      ]
     },
     "execution_count": 35,
     "metadata": {},
     "output_type": "execute_result"
    }
   ],
   "source": [
    "df['handcap'].unique()"
   ]
  },
  {
   "cell_type": "code",
   "execution_count": 56,
   "metadata": {},
   "outputs": [
    {
     "data": {
      "text/plain": [
       "0    108286\n",
       "1      2042\n",
       "2       183\n",
       "3        13\n",
       "4         3\n",
       "Name: handcap, dtype: int64"
      ]
     },
     "execution_count": 56,
     "metadata": {},
     "output_type": "execute_result"
    }
   ],
   "source": [
    "df['handcap'].value_counts()"
   ]
  },
  {
   "cell_type": "markdown",
   "metadata": {},
   "source": [
    "According to the description of 'handcap' variable on Kaggle, it should only have true or false values. We see that it has integer values (0,1,2,3,4). We'll consider all values other than 0 to signify : handicap = True. \n",
    "\n",
    "Also, note that 108286 patient visits are for people without handicap ( out of a total of 110527)."
   ]
  },
  {
   "cell_type": "code",
   "execution_count": 57,
   "metadata": {},
   "outputs": [],
   "source": [
    "df.handcap.replace((0,1,2,3,4), (0,1,1,1,1), inplace=True)"
   ]
  },
  {
   "cell_type": "code",
   "execution_count": 99,
   "metadata": {},
   "outputs": [
    {
     "data": {
      "image/png": "[encoded data removed]",
      "text/plain": [
       "<Figure size 576x432 with 1 Axes>"
      ]
     },
     "metadata": {
      "needs_background": "light"
     },
     "output_type": "display_data"
    }
   ],
   "source": [
    "fig, ax = plt.subplots(figsize=(8, 6))\n",
    "sms_plot = sns.countplot(x=\"handcap\",hue='show', data=df,palette=['green','aquamarine'])\n",
    "sms_plot.set_title('Fig-3a. Effect of having a handicap on patients showing up')\n",
    "sms_plot.set_xlabel('Handicap Status (0 - Without Handicap, 1 - With Handicap)')\n",
    "sms_plot.set_ylabel('no. of patients');"
   ]
  },
  {
   "cell_type": "markdown",
   "metadata": {},
   "source": [
    "The no. of people of who do not have a handicap who also show up is very high. Also, the number of people with handicap is very small. \n",
    "Therefore, we should also look at figures which've been scaled, like the mean of number of patients showing up for each category i.e. people who have a handicap and people who do not."
   ]
  },
  {
   "cell_type": "code",
   "execution_count": 63,
   "metadata": {},
   "outputs": [],
   "source": [
    "handicap_1=df.handcap==1\n",
    "handicap_0=df.handcap==0"
   ]
  },
  {
   "cell_type": "code",
   "execution_count": 64,
   "metadata": {},
   "outputs": [
    {
     "data": {
      "text/plain": [
       "0.818384649709951"
      ]
     },
     "execution_count": 64,
     "metadata": {},
     "output_type": "execute_result"
    }
   ],
   "source": [
    "handicap=df.show[handicap_1].mean() # mean of no.of people who have a handicap  and also showed up"
   ]
  },
  {
   "cell_type": "code",
   "execution_count": 65,
   "metadata": {},
   "outputs": [
    {
     "data": {
      "text/plain": [
       "0.7976469719077258"
      ]
     },
     "execution_count": 65,
     "metadata": {},
     "output_type": "execute_result"
    }
   ],
   "source": [
    "non_handicap=df.show[handicap_0].mean() # mean of no.of people who do not have a handicap and also showed up"
   ]
  },
  {
   "cell_type": "code",
   "execution_count": 66,
   "metadata": {},
   "outputs": [
    {
     "data": {
      "image/png": "[encoded data removed]",
      "text/plain": [
       "<Figure size 432x288 with 1 Axes>"
      ]
     },
     "metadata": {
      "needs_background": "light"
     },
     "output_type": "display_data"
    }
   ],
   "source": [
    "x=['With handicap','Without handicap']\n",
    "plt.bar(x,height=(handicap,non_handicap),width=0.45,color='green')\n",
    "plt.title('Fig-3b:Effect of having a handicap on patients showing up')\n",
    "plt.xlabel('Handicap status')\n",
    "plt.ylabel('no. of patients showed up / total no.of patients');"
   ]
  },
  {
   "cell_type": "markdown",
   "metadata": {},
   "source": [
    "Above analysis shows that handicap doesn't really effect patients showing up"
   ]
  },
  {
   "cell_type": "markdown",
   "metadata": {},
   "source": [
    "### Research Question 4 : Does alcoholism effect patients showing up?"
   ]
  },
  {
   "cell_type": "code",
   "execution_count": 103,
   "metadata": {},
   "outputs": [
    {
     "data": {
      "text/plain": [
       "0    107167\n",
       "1      3360\n",
       "Name: alcoholism, dtype: int64"
      ]
     },
     "execution_count": 103,
     "metadata": {},
     "output_type": "execute_result"
    }
   ],
   "source": [
    "df['alcoholism'].value_counts()"
   ]
  },
  {
   "cell_type": "markdown",
   "metadata": {},
   "source": [
    "There are 3360 people with alcoholism"
   ]
  },
  {
   "cell_type": "code",
   "execution_count": 116,
   "metadata": {},
   "outputs": [
    {
     "data": {
      "image/png": "[encoded data removed]",
      "text/plain": [
       "<Figure size 576x432 with 1 Axes>"
      ]
     },
     "metadata": {
      "needs_background": "light"
     },
     "output_type": "display_data"
    }
   ],
   "source": [
    "fig, ax = plt.subplots(figsize=(8, 6))\n",
    "sms_plot = sns.countplot(x=\"alcoholism\",hue='show', data=df,palette=['k','grey'])\n",
    "sms_plot.set_title('Fig-4a. Effect of having alcoholism on patients showing up')\n",
    "sms_plot.set_xlabel('Alcoholism Status (0 - Without Alcoholism, 1 - With Alcoholism)')\n",
    "sms_plot.set_ylabel('no. of patients');"
   ]
  },
  {
   "cell_type": "markdown",
   "metadata": {},
   "source": [
    "The no. non-alcoholics showing up for appointments is the highest. Also, the number of people with alcoholism is very small. \n",
    "Therefore, we should also look at figures which've been scaled, like the mean of number of patients showing up for each category i.e. people who have alcoholism and people who do not."
   ]
  },
  {
   "cell_type": "code",
   "execution_count": 106,
   "metadata": {},
   "outputs": [],
   "source": [
    "alcohol_1=df.alcoholism==1\n",
    "alcohol_0=df.alcoholism==0"
   ]
  },
  {
   "cell_type": "code",
   "execution_count": 108,
   "metadata": {},
   "outputs": [],
   "source": [
    "alcohol=df.show[alcohol_1].mean() # mean of no.of people who have alcoholism and showed up"
   ]
  },
  {
   "cell_type": "code",
   "execution_count": 107,
   "metadata": {},
   "outputs": [],
   "source": [
    "non_alcohol=df.show[alcohol_0].mean() # mean of no.of people who do not have alcoholism and showed up"
   ]
  },
  {
   "cell_type": "code",
   "execution_count": 111,
   "metadata": {},
   "outputs": [
    {
     "data": {
      "image/png": "[encoded data removed]",
      "text/plain": [
       "<Figure size 576x432 with 1 Axes>"
      ]
     },
     "metadata": {
      "needs_background": "light"
     },
     "output_type": "display_data"
    }
   ],
   "source": [
    "fig, ax = plt.subplots(figsize=(8, 6))\n",
    "x=['Alcoholic','Non Alcoholic']\n",
    "plt.bar(x,height=(alcohol,non_alcohol),width=0.45,color='black')\n",
    "plt.title('Fig- 4b: Effect of alcoholism on patients showing up')\n",
    "plt.xlabel('Alcoholism status')\n",
    "plt.ylabel('no. of patients showed up / total no.of patients');"
   ]
  },
  {
   "cell_type": "markdown",
   "metadata": {},
   "source": [
    "From the Analysis we get that alcoholism doesn't really effect patients showing up."
   ]
  },
  {
   "cell_type": "markdown",
   "metadata": {},
   "source": [
    "### Research Question 5 : Does gender affect patients showing up?"
   ]
  },
  {
   "cell_type": "code",
   "execution_count": 112,
   "metadata": {},
   "outputs": [
    {
     "data": {
      "text/plain": [
       "F    71840\n",
       "M    38687\n",
       "Name: gender, dtype: int64"
      ]
     },
     "execution_count": 112,
     "metadata": {},
     "output_type": "execute_result"
    }
   ],
   "source": [
    "df['gender'].value_counts()"
   ]
  },
  {
   "cell_type": "code",
   "execution_count": 117,
   "metadata": {},
   "outputs": [
    {
     "data": {
      "image/png": "[encoded data removed]",
      "text/plain": [
       "<Figure size 576x432 with 1 Axes>"
      ]
     },
     "metadata": {
      "needs_background": "light"
     },
     "output_type": "display_data"
    }
   ],
   "source": [
    "fig, ax = plt.subplots(figsize=(8, 6))\n",
    "sms_plot = sns.countplot(x=\"gender\",hue='show', data=df,palette=['lightsalmon','maroon'])\n",
    "sms_plot.set_title('Fig-5a. Effect of gender on patients showing up')\n",
    "sms_plot.set_xlabel('Gender (F- Female, M - Male)')\n",
    "sms_plot.set_ylabel('no. of patients');"
   ]
  },
  {
   "cell_type": "markdown",
   "metadata": {},
   "source": [
    "The no. females showing up for appointments is the highest. Also, the number of male patients visting is small when compared to female patients. \n",
    "Therefore, we should also look at figures which've been scaled, like the mean of number of patients showing up for each category i.e. male and female."
   ]
  },
  {
   "cell_type": "code",
   "execution_count": 118,
   "metadata": {},
   "outputs": [],
   "source": [
    "male=df.gender=='M'\n",
    "female=df.gender=='F'"
   ]
  },
  {
   "cell_type": "code",
   "execution_count": 119,
   "metadata": {},
   "outputs": [],
   "source": [
    "female_show=df.show[female].mean() # mean of no.of females who showed up"
   ]
  },
  {
   "cell_type": "code",
   "execution_count": 120,
   "metadata": {},
   "outputs": [],
   "source": [
    "male_show=df.show[male].mean() # mean of no.of males who showed up"
   ]
  },
  {
   "cell_type": "code",
   "execution_count": 122,
   "metadata": {},
   "outputs": [
    {
     "data": {
      "image/png": "[encoded data removed]",
      "text/plain": [
       "<Figure size 576x432 with 1 Axes>"
      ]
     },
     "metadata": {
      "needs_background": "light"
     },
     "output_type": "display_data"
    }
   ],
   "source": [
    "fig, ax = plt.subplots(figsize=(8, 6))\n",
    "x=['Female','Male']\n",
    "plt.bar(x,height=(female_show,male_show),width=0.45,color='maroon')\n",
    "plt.title('Fig-5b : Effect of gender on patients showing up')\n",
    "plt.xlabel('Gender')\n",
    "plt.ylabel('no. of patients showed up / total no.of patients');"
   ]
  },
  {
   "cell_type": "markdown",
   "metadata": {},
   "source": [
    "From the analysis we get that gender doesn't really affect patients showing up"
   ]
  },
  {
   "cell_type": "markdown",
   "metadata": {},
   "source": [
    "### Research Question 6 : Does neighbourhood affect patients showing up?"
   ]
  },
  {
   "cell_type": "code",
   "execution_count": 61,
   "metadata": {},
   "outputs": [
    {
     "data": {
      "text/plain": [
       "array(['JARDIM DA PENHA', 'MATA DA PRAIA', 'PONTAL DE CAMBURI',\n",
       "       'REPÚBLICA', 'GOIABEIRAS', 'ANDORINHAS', 'CONQUISTA',\n",
       "       'NOVA PALESTINA', 'DA PENHA', 'TABUAZEIRO', 'BENTO FERREIRA',\n",
       "       'SÃO PEDRO', 'SANTA MARTHA', 'SÃO CRISTÓVÃO', 'MARUÍPE',\n",
       "       'GRANDE VITÓRIA', 'SÃO BENEDITO', 'ILHA DAS CAIEIRAS',\n",
       "       'SANTO ANDRÉ', 'SOLON BORGES', 'BONFIM', 'JARDIM CAMBURI',\n",
       "       'MARIA ORTIZ', 'JABOUR', 'ANTÔNIO HONÓRIO', 'RESISTÊNCIA',\n",
       "       'ILHA DE SANTA MARIA', 'JUCUTUQUARA', 'MONTE BELO',\n",
       "       'MÁRIO CYPRESTE', 'SANTO ANTÔNIO', 'BELA VISTA', 'PRAIA DO SUÁ',\n",
       "       'SANTA HELENA', 'ITARARÉ', 'INHANGUETÁ', 'UNIVERSITÁRIO',\n",
       "       'SÃO JOSÉ', 'REDENÇÃO', 'SANTA CLARA', 'CENTRO', 'PARQUE MOSCOSO',\n",
       "       'DO MOSCOSO', 'SANTOS DUMONT', 'CARATOÍRA', 'ARIOVALDO FAVALESSA',\n",
       "       'ILHA DO FRADE', 'GURIGICA', 'JOANA D´ARC', 'CONSOLAÇÃO',\n",
       "       'PRAIA DO CANTO', 'BOA VISTA', 'MORADA DE CAMBURI', 'SANTA LUÍZA',\n",
       "       'SANTA LÚCIA', 'BARRO VERMELHO', 'ESTRELINHA', 'FORTE SÃO JOÃO',\n",
       "       'FONTE GRANDE', 'ENSEADA DO SUÁ', 'SANTOS REIS', 'PIEDADE',\n",
       "       'JESUS DE NAZARETH', 'SANTA TEREZA', 'CRUZAMENTO',\n",
       "       'ILHA DO PRÍNCIPE', 'ROMÃO', 'COMDUSA', 'SANTA CECÍLIA',\n",
       "       'VILA RUBIM', 'DE LOURDES', 'DO QUADRO', 'DO CABRAL', 'HORTO',\n",
       "       'SEGURANÇA DO LAR', 'ILHA DO BOI', 'FRADINHOS', 'NAZARETH',\n",
       "       'AEROPORTO', 'ILHAS OCEÂNICAS DE TRINDADE', 'PARQUE INDUSTRIAL'],\n",
       "      dtype=object)"
      ]
     },
     "execution_count": 61,
     "metadata": {},
     "output_type": "execute_result"
    }
   ],
   "source": [
    "name_places=df['neighbourhood'].unique()\n",
    "name_places"
   ]
  },
  {
   "cell_type": "code",
   "execution_count": 123,
   "metadata": {},
   "outputs": [
    {
     "data": {
      "text/plain": [
       "JARDIM CAMBURI                 7717\n",
       "MARIA ORTIZ                    5805\n",
       "RESISTÊNCIA                    4431\n",
       "JARDIM DA PENHA                3877\n",
       "ITARARÉ                        3514\n",
       "                               ... \n",
       "ILHA DO BOI                      35\n",
       "ILHA DO FRADE                    10\n",
       "AEROPORTO                         8\n",
       "ILHAS OCEÂNICAS DE TRINDADE       2\n",
       "PARQUE INDUSTRIAL                 1\n",
       "Name: neighbourhood, Length: 81, dtype: int64"
      ]
     },
     "execution_count": 123,
     "metadata": {},
     "output_type": "execute_result"
    }
   ],
   "source": [
    "df['neighbourhood'].value_counts()"
   ]
  },
  {
   "cell_type": "code",
   "execution_count": 63,
   "metadata": {},
   "outputs": [
    {
     "data": {
      "text/plain": [
       "count             110527\n",
       "unique                81\n",
       "top       JARDIM CAMBURI\n",
       "freq                7717\n",
       "Name: neighbourhood, dtype: object"
      ]
     },
     "execution_count": 63,
     "metadata": {},
     "output_type": "execute_result"
    }
   ],
   "source": [
    "df['neighbourhood'].describe()"
   ]
  },
  {
   "cell_type": "code",
   "execution_count": 64,
   "metadata": {},
   "outputs": [
    {
     "data": {
      "text/plain": [
       "neighbourhood\n",
       "AEROPORTO              0.875000\n",
       "ANDORINHAS             0.769673\n",
       "ANTÔNIO HONÓRIO        0.815498\n",
       "ARIOVALDO FAVALESSA    0.780142\n",
       "BARRO VERMELHO         0.784870\n",
       "                         ...   \n",
       "SÃO JOSÉ               0.783510\n",
       "SÃO PEDRO              0.789624\n",
       "TABUAZEIRO             0.817050\n",
       "UNIVERSITÁRIO          0.789474\n",
       "VILA RUBIM             0.834313\n",
       "Name: show, Length: 81, dtype: float64"
      ]
     },
     "execution_count": 64,
     "metadata": {},
     "output_type": "execute_result"
    }
   ],
   "source": [
    "places=df.groupby('neighbourhood').mean().show  # mean of people showing up from each neighbourhood\n",
    "places"
   ]
  },
  {
   "cell_type": "code",
   "execution_count": 65,
   "metadata": {},
   "outputs": [
    {
     "data": {
      "text/plain": [
       "Text(0, 0.5, 'Neighbourhood')"
      ]
     },
     "execution_count": 65,
     "metadata": {},
     "output_type": "execute_result"
    },
    {
     "data": {
      "image/png": "[encoded data removed]",
      "text/plain": [
       "<Figure size 720x1296 with 1 Axes>"
      ]
     },
     "metadata": {
      "needs_background": "light"
     },
     "output_type": "display_data"
    }
   ],
   "source": [
    "ax = places.plot(kind='barh', figsize=(10, 18), color='#86bf91', zorder=2, width=0.4)\n",
    "ax.set_title(\"Fig-6 : Effect of neighbourhood on patients showing up\", weight='bold', size=16)\n",
    "# Set x-axis label\n",
    "ax.set_xlabel(\"no. of patients showed up / total no.of patients from the neighbourhood\", labelpad=20, weight='bold', size=12)\n",
    "\n",
    "# Set y-axis label\n",
    "ax.set_ylabel(\"Neighbourhood\", labelpad=20, weight='bold', size=12)"
   ]
  },
  {
   "cell_type": "markdown",
   "metadata": {},
   "source": [
    "Most neighbourhoods seem to have similar levels of no.of patients showing up. There are a few outliers but this doesn't seem significant. "
   ]
  },
  {
   "cell_type": "markdown",
   "metadata": {},
   "source": [
    "### Research Question 7 : Does age affect patients showing up?"
   ]
  },
  {
   "cell_type": "code",
   "execution_count": 6,
   "metadata": {},
   "outputs": [
    {
     "data": {
      "text/plain": [
       "count    110527.000000\n",
       "mean         37.088874\n",
       "std          23.110205\n",
       "min          -1.000000\n",
       "25%          18.000000\n",
       "50%          37.000000\n",
       "75%          55.000000\n",
       "max         115.000000\n",
       "Name: age, dtype: float64"
      ]
     },
     "execution_count": 6,
     "metadata": {},
     "output_type": "execute_result"
    }
   ],
   "source": [
    "df['age'].describe()"
   ]
  },
  {
   "cell_type": "code",
   "execution_count": 10,
   "metadata": {},
   "outputs": [
    {
     "data": {
      "text/html": [
       "<div>\n",
       "<style scoped>\n",
       "    .dataframe tbody tr th:only-of-type {\n",
       "        vertical-align: middle;\n",
       "    }\n",
       "\n",
       "    .dataframe tbody tr th {\n",
       "        vertical-align: top;\n",
       "    }\n",
       "\n",
       "    .dataframe thead th {\n",
       "        text-align: right;\n",
       "    }\n",
       "</style>\n",
       "<table border=\"1\" class=\"dataframe\">\n",
       "  <thead>\n",
       "    <tr style=\"text-align: right;\">\n",
       "      <th></th>\n",
       "      <th>appointmentid</th>\n",
       "      <th>gender</th>\n",
       "      <th>scheduledday</th>\n",
       "      <th>appointmentday</th>\n",
       "      <th>age</th>\n",
       "      <th>neighbourhood</th>\n",
       "      <th>scholarship</th>\n",
       "      <th>hipertension</th>\n",
       "      <th>diabetes</th>\n",
       "      <th>alcoholism</th>\n",
       "      <th>handcap</th>\n",
       "      <th>sms_received</th>\n",
       "      <th>show</th>\n",
       "    </tr>\n",
       "  </thead>\n",
       "  <tbody>\n",
       "    <tr>\n",
       "      <td>99832</td>\n",
       "      <td>5775010</td>\n",
       "      <td>F</td>\n",
       "      <td>2016-06-06T08:58:13Z</td>\n",
       "      <td>2016-06-06T00:00:00Z</td>\n",
       "      <td>-1</td>\n",
       "      <td>ROMÃO</td>\n",
       "      <td>0</td>\n",
       "      <td>0</td>\n",
       "      <td>0</td>\n",
       "      <td>0</td>\n",
       "      <td>0</td>\n",
       "      <td>0</td>\n",
       "      <td>1</td>\n",
       "    </tr>\n",
       "  </tbody>\n",
       "</table>\n",
       "</div>"
      ],
      "text/plain": [
       "       appointmentid gender          scheduledday        appointmentday  age  \\\n",
       "99832        5775010      F  2016-06-06T08:58:13Z  2016-06-06T00:00:00Z   -1   \n",
       "\n",
       "      neighbourhood  scholarship  hipertension  diabetes  alcoholism  handcap  \\\n",
       "99832         ROMÃO            0             0         0           0        0   \n",
       "\n",
       "       sms_received  show  \n",
       "99832             0     1  "
      ]
     },
     "execution_count": 10,
     "metadata": {},
     "output_type": "execute_result"
    }
   ],
   "source": [
    "df.query('age==-1')  # searching data for minimum from the describe() function. This is being done becuase age cannot be negative. "
   ]
  },
  {
   "cell_type": "code",
   "execution_count": 11,
   "metadata": {},
   "outputs": [],
   "source": [
    "df.drop(99832,axis=0,inplace=True)  # droppping negative values"
   ]
  },
  {
   "cell_type": "code",
   "execution_count": 9,
   "metadata": {},
   "outputs": [
    {
     "data": {
      "text/plain": [
       "count    110526.000000\n",
       "mean         37.089219\n",
       "std          23.110026\n",
       "min           0.000000\n",
       "25%          18.000000\n",
       "50%          37.000000\n",
       "75%          55.000000\n",
       "max         115.000000\n",
       "Name: age, dtype: float64"
      ]
     },
     "execution_count": 9,
     "metadata": {},
     "output_type": "execute_result"
    }
   ],
   "source": [
    "df['age'].describe()"
   ]
  },
  {
   "cell_type": "code",
   "execution_count": 55,
   "metadata": {},
   "outputs": [],
   "source": [
    "show_1=df.show==1\n",
    "show_0=df.show==0"
   ]
  },
  {
   "cell_type": "code",
   "execution_count": 13,
   "metadata": {},
   "outputs": [
    {
     "data": {
      "text/plain": [
       "37.790504154999034"
      ]
     },
     "execution_count": 13,
     "metadata": {},
     "output_type": "execute_result"
    }
   ],
   "source": [
    "df.age[show_1].mean()"
   ]
  },
  {
   "cell_type": "markdown",
   "metadata": {},
   "source": [
    "Average age of people who showed up is 37.8 years"
   ]
  },
  {
   "cell_type": "code",
   "execution_count": 14,
   "metadata": {},
   "outputs": [
    {
     "data": {
      "text/plain": [
       "34.31766656212196"
      ]
     },
     "execution_count": 14,
     "metadata": {},
     "output_type": "execute_result"
    }
   ],
   "source": [
    "df.age[show_0].mean()"
   ]
  },
  {
   "cell_type": "markdown",
   "metadata": {},
   "source": [
    "Average age of people who did not show up is 34.3 years"
   ]
  },
  {
   "cell_type": "code",
   "execution_count": 15,
   "metadata": {},
   "outputs": [
    {
     "data": {
      "image/png": "[encoded data removed]",
      "text/plain": [
       "<Figure size 432x288 with 1 Axes>"
      ]
     },
     "metadata": {
      "needs_background": "light"
     },
     "output_type": "display_data"
    }
   ],
   "source": [
    "# age distribution of people showing up and not showing up\n",
    "df.age[show_1].hist(alpha=0.5,label='showed up')\n",
    "df.age[show_0].hist(label='no show')\n",
    "plt.legend()\n",
    "plt.title('Fig-7a : Age distribution of people who made appointments')\n",
    "plt.xlabel('Age')\n",
    "plt.ylabel('No. of patients');"
   ]
  },
  {
   "cell_type": "code",
   "execution_count": 76,
   "metadata": {},
   "outputs": [],
   "source": [
    "df['age_group']=pd.cut(df.age,bins=[0,20,40,60,80,100,115],labels=['age_1','age_2','age_3','age_4','age_5','age_6']) # converting continous variable to a categorical one"
   ]
  },
  {
   "cell_type": "code",
   "execution_count": 50,
   "metadata": {},
   "outputs": [
    {
     "data": {
      "text/plain": [
       "age_3    30081\n",
       "age_2    28835\n",
       "age_1    28309\n",
       "age_4    16910\n",
       "age_5     2845\n",
       "age_6        7\n",
       "Name: age_group, dtype: int64"
      ]
     },
     "execution_count": 50,
     "metadata": {},
     "output_type": "execute_result"
    }
   ],
   "source": [
    "df['age_group'].value_counts()"
   ]
  },
  {
   "cell_type": "code",
   "execution_count": 75,
   "metadata": {},
   "outputs": [
    {
     "data": {
      "image/png": "[encoded data removed]",
      "text/plain": [
       "<Figure size 1152x576 with 1 Axes>"
      ]
     },
     "metadata": {
      "needs_background": "light"
     },
     "output_type": "display_data"
    }
   ],
   "source": [
    "fig, ax = plt.subplots(figsize=(16,8))\n",
    "sms_plot = sns.countplot(x=\"age_group\",hue='show', data=df,palette=['pink','crimson'])\n",
    "sms_plot.set_title('Fig-7b. Effect of age on patients showing up')\n",
    "sms_plot.set_xlabel('Age (age_1 : 0-20 yrs,age_2 : 20-40 yrs,age_3 :40-60 yrs,age_4: 60-80 yrs,age_5:80-100 yrs, age_6: 100-115 yrs)')\n",
    "sms_plot.set_ylabel('no. of patients');"
   ]
  },
  {
   "cell_type": "markdown",
   "metadata": {},
   "source": [
    "Look like age cateogry 3 (40-60 yrs) shows up for appointment the most. Also, the no. of people in age 3 category is way more than other categories. \n",
    "Therefore, we should also look at figures which've been scaled, like the mean of number of patients showing up for each age category."
   ]
  },
  {
   "cell_type": "code",
   "execution_count": 65,
   "metadata": {},
   "outputs": [
    {
     "data": {
      "text/plain": [
       "age_3    24490\n",
       "age_2    22209\n",
       "age_1    21852\n",
       "age_4    14373\n",
       "age_5     2379\n",
       "age_6        4\n",
       "Name: age_group, dtype: int64"
      ]
     },
     "execution_count": 65,
     "metadata": {},
     "output_type": "execute_result"
    }
   ],
   "source": [
    "age_show1=df.age_group[show_1].value_counts()\n",
    "age_show1 # count of people who showed up in each age category"
   ]
  },
  {
   "cell_type": "code",
   "execution_count": 63,
   "metadata": {},
   "outputs": [
    {
     "data": {
      "text/plain": [
       "age_2    6626\n",
       "age_1    6457\n",
       "age_3    5591\n",
       "age_4    2537\n",
       "age_5     466\n",
       "age_6       3\n",
       "Name: age_group, dtype: int64"
      ]
     },
     "execution_count": 63,
     "metadata": {},
     "output_type": "execute_result"
    }
   ],
   "source": [
    "age_show0=df.age_group[show_0].value_counts()\n",
    "age_show0 # count of people who did not show up in each age category"
   ]
  },
  {
   "cell_type": "code",
   "execution_count": 69,
   "metadata": {},
   "outputs": [
    {
     "data": {
      "text/plain": [
       "age_1    0.771910\n",
       "age_2    0.770210\n",
       "age_3    0.814135\n",
       "age_4    0.849970\n",
       "age_5    0.836204\n",
       "age_6    0.571429\n",
       "Name: age_group, dtype: float64"
      ]
     },
     "execution_count": 69,
     "metadata": {},
     "output_type": "execute_result"
    }
   ],
   "source": [
    "age_mean=age_show1/(age_show1+age_show0)\n",
    "age_mean # mean of people who showed in each age category"
   ]
  },
  {
   "cell_type": "code",
   "execution_count": 68,
   "metadata": {},
   "outputs": [
    {
     "data": {
      "image/png": "[encoded data removed]",
      "text/plain": [
       "<Figure size 576x432 with 1 Axes>"
      ]
     },
     "metadata": {
      "needs_background": "light"
     },
     "output_type": "display_data"
    }
   ],
   "source": [
    "fig, ax = plt.subplots(figsize=(8, 6))\n",
    "x=['0-20','20-40','40-60','60-80','80-100','100-115']\n",
    "plt.bar(x,height=(age_mean),width=0.45,color='maroon')\n",
    "plt.title('Fig-7c : Effect of age on patients showing up')\n",
    "plt.xlabel('Age')\n",
    "plt.ylabel('no. of patients showed up / total no.of patients');"
   ]
  },
  {
   "cell_type": "markdown",
   "metadata": {},
   "source": [
    "Age does affect whether patient will show up or not. As seen in the plot above , the mean for age category 60-80 is way more than age group 100-115."
   ]
  },
  {
   "cell_type": "markdown",
   "metadata": {},
   "source": [
    "<a id='conclusions'></a>\n",
    "## Conclusions\n",
    "\n",
    "Conculsions are listed below (non-exhaustive & preliminary):\n"
   ]
  },
  {
   "cell_type": "markdown",
   "metadata": {},
   "source": [
    "**1. Effect having a scholarship on patients showing up :** Refer Fig-1a. People without scholarship show up the most among the four groups i.e: \n",
    "-  people with scholarship who also show up \n",
    "-  people with scholarship who do not show up \n",
    "-  people without scholarship who show up \n",
    "-  people without scholarship who do not show up. \n",
    "\n",
    "Also, the number of people without scholarship are way more than people with scholarship.Hence, if we just look at absolute number the we'll see that people without scholarship show up the most. But, if we want to capture the effect of  scholarship on people showing up, we need to compare the following:\n",
    "\n",
    "_[no. of people of who have scholarship and showed up/total no. of people with scholarship] vs [no.of who do not have scholarship and showed up / total no. of people who do not have scholarship]_\n",
    "\n",
    "This can be achieved using the pandas mean() fucntion. \n",
    "\n",
    "Refer fig 1b. If we plot the required means it shows that the effect of not having scholarship on people showing up is not a lot different from people having scholarship. A word of caution - mean statistic is highly susceptible to outliers and hence cannot be used to conculde any effect. At this point, it can only bee seen as an indicator of the underlying trend.We need to conduct further econometric testing to conclude any causation. \n",
    "\n",
    "**2. Effect of receiving an SMS on patients showing up:** Refer Fig-2a. People who do not receive an SMS show up the most among the four groups i.e:\n",
    "-  people who receive an SMS and also show up \n",
    "-  people who receive an SMS and do not show up \n",
    "-  people who do not receive an SMS and who show up \n",
    "-  people whow do not receive an SMS and also who do not show up\n",
    "\n",
    "Also, the number of people who do not receive an SMS are way more than people who do.Hence, if we just look at absolute number the we'll see that people who do not receive an SMS show up the most. But, if we want to capture the effect of receiving an SMS on people showing up, we need to compare the following:\n",
    "\n",
    "_[no. of people of who receive an SMS and showed up/total no. of people who received an SMS] vs [no.of people who did not receive an SMS and showed up / total no. of people who did not receive an SMS]_\n",
    "\n",
    "This can be achieved using the pandas mean() fucntion. \n",
    "\n",
    "Refer fig 2b. If we plot the required means it shows that the effect of receiving an SMS on people showing up.It shows a 13% decline in people showing up if they receive an SMS. A word of caution - mean statistic is highly susceptible to outliers and hence cannot be used to conculde any effect. At this point, it can only bee seen as an indicator of the underlying trend.We need to conduct further econometric testing to conclude any causation. \n",
    "\n",
    "**3. Effect of having a handicap patients on showing up:** \n",
    "According to the description of 'handcap' variable on Kaggle, it should only have true or false values. We see that it has integer values (0,1,2,3,4). We'll consider all values other than 0 to signify : handicap = True. <br><br>Refer Fig-3a. People who do not have a handicap show up the most among the four groups i.e:\n",
    "-  people who have a hanidcap and show up \n",
    "-  people who have a hanidcap and do not show up \n",
    "-  people who do not have a hanidcap and show up \n",
    "-  people who do not have a hanidcap and also don't show up \n",
    "\n",
    "Also, the number of people who don't have a handicap are way more than people who do.Hence, if we just look at absolute number the we'll see that people who do not have a handicap show up the most. But, if we want to capture the effect of having a handicap on people showing up, we need to compare the following:\n",
    "\n",
    "_[no. of people of who have a hanidcap and showed up/total no. of people who have a handicap] vs [no.of people who do not have a handicap and showed up / total no. of people who do not have a handicap]_\n",
    "\n",
    "This can be achieved using the pandas mean() fucntion. \n",
    "\n",
    "Refer fig 3b. If we plot the required means it shows that the effect of having a handicap on people showing up is not a lot different from people not having a handicap. A word of caution - mean statistic is highly susceptible to outliers and hence cannot be used to conculde any effect. At this point, it can only bee seen as an indicator of the underlying trend.We need to conduct further econometric testing to conclude any causation. \n",
    "\n",
    "\n",
    "**Similary we evaluate research question 4. Effect of having alcoholisn on patients showing up  and  5. Effect of gender on patients showing up** \n",
    "\n",
    "\n",
    "\n",
    "**6. Effect of neighbourhood on patients showing up:** There are 81 neighbourhoods listed in our dataset. Maximum patient appointments (7717) are from Jardim Camburi.To comapre no.of people showing up from each neighbourhood , we use the follwing statistic: \n",
    "\n",
    "_[no. of people from a neighbourhood who showed up/total no. of people who made an appointment from that neighbourhood]_\n",
    "\n",
    "This can be achieved using the pandas mean() function. \n",
    "\n",
    "Refer fig 6. If we plot the required means it shows that most neighbourhoods seem to have similar levels of no.of patients showing up. There are a few outliers but this doesn't seem significant. A word of caution - mean statistic is highly susceptible to outliers and hence cannot be used to conculde any effect. At this point, it can only bee seen as an indicator of the underlying trend.We need to conduct further econometric testing to conclude any causation.\n",
    "\n",
    "**7. Effect of age on patients showing up:** We first check for any issues with the age data by using the describe() function. Notice that the minimum age is being shown as -1, which is not possible. We explore which rows show this issue. It's just one row in our dataset. Hence,we drop the row and recheck. \n",
    "\n",
    "From Fig-7a , we can see that there no major difference in the age distribution of people who showed up and people who did not.\n",
    "\n",
    "Moreover, we need to convert age to a categorical variable to carry further analysis. We do this by using a range of 20 years and making 6 different age categories. We then carry out a similar anaylsis as done for the scholarship variable. \n",
    "\n",
    "From fig-7b, we get that age cateogry 3 (40-60 yrs) shows up for appointment the most. Also, the no. of people in age 3 category is way more than other categories. \n",
    "Therefore, we should also look at figures which've been scaled, like the mean of number of patients showing up for each age category.\n",
    "\n",
    "To comapre no.of people showing up from each age group, we use the follwing statistic: \n",
    "\n",
    "_[no. of people from an age group who showed up/total no. of people who made an appointment from that age group]_\n",
    " \n",
    "Refer fig-7c. If we plot the required means it age does affect whether patient will show up or not. As seen in the plot, the mean for age category 60-80 is way more than age group 100-115.A word of caution - mean statistic is highly susceptible to outliers and hence cannot be used to conculde any effect. At this point, it can only bee seen as an indicator of the underlying trend.We need to conduct further econometric testing to conclude any causation."
   ]
  },
  {
   "cell_type": "markdown",
   "metadata": {},
   "source": [
    "**Limitations of the analysis:**\n",
    "- Most of the analysis has been based on the mean statistic. Mean is highly susceptible to outliers and hence we need to do further statistical testing to establish concrete results.\n",
    "- We have not looked at how the combination of two variables effect the show/no-show outcome\n",
    "- We've not conducted any regression analysis. Since the outcome variable is an indicator variable ,we can establish some relationship using logistic regression. \n",
    "- We can also look at the effect on patient showing up based on the difference between the day appointment was made and the actual visit day"
   ]
  },
  {
   "cell_type": "markdown",
   "metadata": {},
   "source": [
    "**WEBSITES USED FOR REFERENCE:**\n",
    "- https://stackoverflow.com/questions\n",
    "- https://pandas.pydata.org/\n",
    "- https://www.geeksforgeeks.org/\n",
    "- https://mode.com/example-gallery/python_horizontal_bar/\n",
    "- https://matplotlib.org/3.2.1/api/_as_gen/matplotlib.pyplot.figure.html\n",
    "- https://www.kaggle.com/joniarroba/noshowappointments\n",
    "- https://www.absentdata.com/pandas/pandas-cut-continuous-to-categorical/\n",
    "- https://seaborn.pydata.org/tutorial/categorical.html\n",
    "- Udacity Data Analyst Nanodegree course material"
   ]
  },
  {
   "cell_type": "code",
   "execution_count": null,
   "metadata": {},
   "outputs": [],
   "source": []
  }
 ],
 "metadata": {
  "kernelspec": {
   "display_name": "Python 3",
   "language": "python",
   "name": "python3"
  },
  "language_info": {
   "codemirror_mode": {
    "name": "ipython",
    "version": 3
   },
   "file_extension": ".py",
   "mimetype": "text/x-python",
   "name": "python",
   "nbconvert_exporter": "python",
   "pygments_lexer": "ipython3",
   "version": "3.7.4"
  }
 },
 "nbformat": 4,
 "nbformat_minor": 4
}
